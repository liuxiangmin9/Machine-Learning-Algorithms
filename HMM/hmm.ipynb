{
 "cells": [
  {
   "cell_type": "code",
   "execution_count": 1,
   "metadata": {},
   "outputs": [],
   "source": [
    "# HMM模型是关于时序的概率模型，描述由一个隐藏的马尔科夫链随机生成不可观测的状态随机序列，再由各个状态生成一个观测从而产生观测随机序列的过程。\n",
    "# HMM的齐次马尔科夫性假设，即当前状态只和前一个状态有关，与其他时刻的状态及观测无关。\n",
    "# HMM的观测独立性假设，即当前观测只和当前状态有关，与其他时刻的状态及观测无关。\n",
    "# HMM模型由状态转移概率矩阵A，观测概率矩阵B，初始状态向量概率pi，描述。\n",
    "\n",
    "# 训练数据：已经分词过的人民日报1998语料库\n",
    "# 模型学习：（A, B, pi）的参数估计。训练数据已经分词完毕，使用极大似然估计。\n",
    "# 模型预测：使用维特比算法。\n",
    "# 模型评估：使用精确率precision, 召回率recall"
   ]
  },
  {
   "cell_type": "code",
   "execution_count": 2,
   "metadata": {},
   "outputs": [],
   "source": [
    "import numpy as np\n",
    "from tqdm import tqdm"
   ]
  },
  {
   "cell_type": "markdown",
   "metadata": {},
   "source": [
    "# （A, B, pi）的参数估计。使用极大似然估计，其实就是算频率"
   ]
  },
  {
   "cell_type": "code",
   "execution_count": 3,
   "metadata": {},
   "outputs": [],
   "source": [
    "# 在中文分词中，包含以下几种状态（词性)\n",
    "# B: 词语的开头\n",
    "# M: 中间词\n",
    "# E: 词语的结尾\n",
    "# S: 孤立的单个字"
   ]
  },
  {
   "cell_type": "code",
   "execution_count": 4,
   "metadata": {},
   "outputs": [],
   "source": [
    "# 定义一个状态映射字典。方便我们定位状态在列表中对应位置\n",
    "status2num = {'B': 0, 'M': 1, 'E': 2, 'S': 3}"
   ]
  },
  {
   "cell_type": "code",
   "execution_count": 5,
   "metadata": {},
   "outputs": [],
   "source": [
    "# 定义状态转移概率矩阵。总共4个状态，所以4x4\n",
    "A = np.zeros((4, 4))"
   ]
  },
  {
   "cell_type": "code",
   "execution_count": 6,
   "metadata": {},
   "outputs": [],
   "source": [
    "# 定义观测概率矩阵\n",
    "# 使用python内置的ord函数获取词的编码，编码大小为65536，总共4个状态\n",
    "# 所以B矩阵4x65536\n",
    "B = np.zeros((4, 65536))"
   ]
  },
  {
   "cell_type": "code",
   "execution_count": 7,
   "metadata": {},
   "outputs": [],
   "source": [
    "# 初始状态，每一个句子的开头只有4种状态（词性）\n",
    "pi = np.zeros(4)"
   ]
  },
  {
   "cell_type": "code",
   "execution_count": 8,
   "metadata": {},
   "outputs": [],
   "source": [
    "with open('../jupyter_files/RMRB_yuliao.txt', encoding='utf-8') as file:    # 读取语料文件，需根据情况修改文件路径\n",
    "    lines = file.readlines()    # 返回list"
   ]
  },
  {
   "cell_type": "code",
   "execution_count": 9,
   "metadata": {},
   "outputs": [
    {
     "data": {
      "text/plain": [
       "['迈向  充满  希望  的  新  世纪  ——  一九九八年  新年  讲话  （  附  图片  １  张  ）  \\n',\n",
       " '中共中央  总书记  、  国家  主席  江  泽民  \\n',\n",
       " '（  一九九七年  十二月  三十一日  ）  \\n',\n",
       " '１２月  ３１日  ，  中共中央  总书记  、  国家  主席  江  泽民  发表  １９９８年  新年  讲话  《  迈向  充满  希望  的  新  世纪  》  。  （  新华社  记者  兰  红光  摄  ）  \\n',\n",
       " '同胞  们  、  朋友  们  、  女士  们  、  先生  们  ：  \\n']"
      ]
     },
     "execution_count": 9,
     "metadata": {},
     "output_type": "execute_result"
    }
   ],
   "source": [
    "lines[0:5]"
   ]
  },
  {
   "cell_type": "code",
   "execution_count": 10,
   "metadata": {},
   "outputs": [],
   "source": [
    "# 将语料按分词切割好\n",
    "lines1 = []\n",
    "for line in lines:\n",
    "    line = line.strip().split()\n",
    "    lines1.append(line)"
   ]
  },
  {
   "cell_type": "code",
   "execution_count": 11,
   "metadata": {},
   "outputs": [
    {
     "data": {
      "text/plain": [
       "['迈向',\n",
       " '充满',\n",
       " '希望',\n",
       " '的',\n",
       " '新',\n",
       " '世纪',\n",
       " '——',\n",
       " '一九九八年',\n",
       " '新年',\n",
       " '讲话',\n",
       " '（',\n",
       " '附',\n",
       " '图片',\n",
       " '１',\n",
       " '张',\n",
       " '）']"
      ]
     },
     "execution_count": 11,
     "metadata": {},
     "output_type": "execute_result"
    }
   ],
   "source": [
    "lines1[0]"
   ]
  },
  {
   "cell_type": "code",
   "execution_count": 12,
   "metadata": {},
   "outputs": [
    {
     "name": "stdout",
     "output_type": "stream",
     "text": [
      "(19056, 19056)\n"
     ]
    }
   ],
   "source": [
    "print((len(lines),len(lines1)))"
   ]
  },
  {
   "cell_type": "code",
   "execution_count": 13,
   "metadata": {},
   "outputs": [],
   "source": [
    "# 给分词后的词转换为BMES标记\n",
    "lines2 = []\n",
    "for line in lines1:\n",
    "    tmp = []\n",
    "    for words in line:\n",
    "        if len(words) == 1:\n",
    "            tmp.extend(\"S\")\n",
    "        else:\n",
    "            tmp.extend(\"B\"+\"M\"*(len(words)-2)+\"E\")\n",
    "    lines2.append(tmp)"
   ]
  },
  {
   "cell_type": "code",
   "execution_count": 14,
   "metadata": {},
   "outputs": [
    {
     "data": {
      "text/plain": [
       "['B',\n",
       " 'E',\n",
       " 'B',\n",
       " 'E',\n",
       " 'B',\n",
       " 'E',\n",
       " 'S',\n",
       " 'S',\n",
       " 'B',\n",
       " 'E',\n",
       " 'B',\n",
       " 'E',\n",
       " 'B',\n",
       " 'M',\n",
       " 'M',\n",
       " 'M',\n",
       " 'E',\n",
       " 'B',\n",
       " 'E',\n",
       " 'B',\n",
       " 'E',\n",
       " 'S',\n",
       " 'S',\n",
       " 'B',\n",
       " 'E',\n",
       " 'S',\n",
       " 'S',\n",
       " 'S']"
      ]
     },
     "execution_count": 14,
     "metadata": {},
     "output_type": "execute_result"
    }
   ],
   "source": [
    "lines2[0]"
   ]
  },
  {
   "cell_type": "code",
   "execution_count": 15,
   "metadata": {},
   "outputs": [
    {
     "name": "stderr",
     "output_type": "stream",
     "text": [
      "100%|█████████████████████████████████████████████████████████████████████████| 19056/19056 [00:01<00:00, 17022.65it/s]\n"
     ]
    }
   ],
   "source": [
    "# 计算A矩阵\n",
    "for line in tqdm(lines2):\n",
    "    for i in range(len(line)-1):\n",
    "        A[status2num[line[i]]][status2num[line[i+1]]] +=1"
   ]
  },
  {
   "cell_type": "code",
   "execution_count": 16,
   "metadata": {},
   "outputs": [
    {
     "data": {
      "text/plain": [
       "array([[     0.,  85897., 499329.,      0.],\n",
       "       [     0.,  45378.,  85897.,      0.],\n",
       "       [282224.,      0.,      0., 299226.],\n",
       "       [290911.,      0.,      0., 218532.]])"
      ]
     },
     "execution_count": 16,
     "metadata": {},
     "output_type": "execute_result"
    }
   ],
   "source": [
    "A"
   ]
  },
  {
   "cell_type": "code",
   "execution_count": 17,
   "metadata": {},
   "outputs": [],
   "source": [
    "# 转换为概率\n",
    "# 如果句子较长，许多个较小的概率值连乘，容易造成下溢。对于这种情况，可以使用log函数解决。\n",
    "# 但是当碰到0时，log0是没有定义的，我们给每一个0的位置加上一个极小值-3.14e+100，使其有定义。\n",
    "for i in range(len(A)):\n",
    "    row_sum = np.sum(A[i])\n",
    "    for j in range(len(A[i])):\n",
    "        if A[i][j] == 0:\n",
    "            A[i][j] = -3.14e+100\n",
    "        else:\n",
    "            A[i][j] = np.log(A[i][j]/row_sum)"
   ]
  },
  {
   "cell_type": "code",
   "execution_count": 18,
   "metadata": {},
   "outputs": [
    {
     "data": {
      "text/plain": [
       "array([[-3.14000000e+100, -1.91884919e+000, -1.58732900e-001,\n",
       "        -3.14000000e+100],\n",
       "       [-3.14000000e+100, -1.06226695e+000, -4.24145455e-001,\n",
       "        -3.14000000e+100],\n",
       "       [-7.22823902e-001, -3.14000000e+100, -3.14000000e+100,\n",
       "        -6.64325843e-001],\n",
       "       [-5.60300594e-001, -3.14000000e+100, -3.14000000e+100,\n",
       "        -8.46385515e-001]])"
      ]
     },
     "execution_count": 18,
     "metadata": {},
     "output_type": "execute_result"
    }
   ],
   "source": [
    "A"
   ]
  },
  {
   "cell_type": "code",
   "execution_count": 19,
   "metadata": {},
   "outputs": [
    {
     "name": "stderr",
     "output_type": "stream",
     "text": [
      "100%|████████████████████████████████████████████████████████████████████████| 19056/19056 [00:00<00:00, 955351.98it/s]\n"
     ]
    }
   ],
   "source": [
    "# 计算pi矩阵\n",
    "for line in tqdm(lines2):\n",
    "    if len(line) != 0:                # 跳过没有内容的行，不然会报错\n",
    "        pi[status2num[line[0]]] += 1          # 每一行的第一个字的状态为初始状态"
   ]
  },
  {
   "cell_type": "code",
   "execution_count": 20,
   "metadata": {},
   "outputs": [
    {
     "data": {
      "text/plain": [
       "array([12091.,     0.,     0.,  6963.])"
      ]
     },
     "execution_count": 20,
     "metadata": {},
     "output_type": "execute_result"
    }
   ],
   "source": [
    "pi"
   ]
  },
  {
   "cell_type": "code",
   "execution_count": 21,
   "metadata": {},
   "outputs": [],
   "source": [
    "# 转换为概率\n",
    "pi_sum = np.sum(pi)\n",
    "for i in range(len(pi)):\n",
    "    if pi[i] == 0:\n",
    "        pi[i] = -3.14e+100\n",
    "    else:\n",
    "        pi[i] = np.log(pi[i] / pi_sum)"
   ]
  },
  {
   "cell_type": "code",
   "execution_count": 22,
   "metadata": {},
   "outputs": [
    {
     "data": {
      "text/plain": [
       "array([-4.54815679e-001, -3.14000000e+100, -3.14000000e+100,\n",
       "       -1.00666664e+000])"
      ]
     },
     "execution_count": 22,
     "metadata": {},
     "output_type": "execute_result"
    }
   ],
   "source": [
    "pi"
   ]
  },
  {
   "cell_type": "code",
   "execution_count": 23,
   "metadata": {},
   "outputs": [
    {
     "name": "stderr",
     "output_type": "stream",
     "text": [
      "100%|██████████████████████████████████████████████████████████████████████████| 19056/19056 [00:02<00:00, 8531.09it/s]\n"
     ]
    }
   ],
   "source": [
    "# 计算B矩阵 ----还是要回到lines1...\n",
    "for line in tqdm(lines1):\n",
    "    for words in line:\n",
    "        status = []         # 记录每一分词的状态\n",
    "        if len(words) == 1:\n",
    "            status.extend(\"S\")\n",
    "        else:\n",
    "            status.extend(\"B\"+\"M\"*(len(words)-2)+\"E\")\n",
    "        for i in range(len(words)):\n",
    "            B[status2num[status[i]]][ord(words[i])] += 1\n"
   ]
  },
  {
   "cell_type": "code",
   "execution_count": 24,
   "metadata": {},
   "outputs": [],
   "source": [
    "# 转换为概率\n",
    "for i in range(len(B)):\n",
    "    row_sum = np.sum(B[i])\n",
    "    for j in range(len(B[i])):\n",
    "        if B[i][j] == 0:\n",
    "            B[i][j] = -3.14e+100\n",
    "        else:\n",
    "            B[i][j] = np.log(B[i][j]/row_sum)"
   ]
  },
  {
   "cell_type": "markdown",
   "metadata": {},
   "source": [
    "# hmm模型参数训练好后，使用维特比算法做分词"
   ]
  },
  {
   "cell_type": "code",
   "execution_count": 25,
   "metadata": {},
   "outputs": [],
   "source": [
    "def hmm_predict(article, hmm_param):\n",
    "    \"\"\"\n",
    "    使用hmm训练好的参数及维特比算法做分词\n",
    "    param article: 待分词的文字\n",
    "    param hmm_param: hmm参数，(A, B, pi)\n",
    "    param return: 分词后的文字\n",
    "    \"\"\"\n",
    "    A, B, pi = hmm_param\n",
    "    article_partition = []         # 保存分词后的结果\n",
    "    for line in article:\n",
    "        line = line.strip()\n",
    "        # 维特比算法\n",
    "        # delta--长度为每一行长度，每一位有4种状态\n",
    "        delta=[[0 for _ in range(4)] for _ in range(len(line))]\n",
    "        # psi同理\n",
    "        psi=[[0 for _ in range(4)] for _ in range(len(line))]\n",
    "        psi[0][:]=[0,0,0,0]\n",
    "        for i in range(4):\n",
    "            delta[0][i] = pi[i]+B[i][ord(line[0])]    # 求初始时刻的delta。psi用零初始化即可，无需再求。\n",
    "        for t in range(1, len(line)):\n",
    "            for i in range(4):\n",
    "                tmp = [delta[t-1][j]+A[j][i] for j in range(4)]        # 求t-1时刻状态转变为t时刻状态的所有可能概率取值\n",
    "                delta[t][i] = max(tmp) + B[i][ord(line[t])]\n",
    "                psi[t][i] = tmp.index(max(tmp))\n",
    "\n",
    "        status = []          # 保存最优状态链\n",
    "        It = delta[-1].index(max(delta[-1]))    # 已求出的最新一个时刻的状态\n",
    "        status.append(It)\n",
    "        for t in range(len(line)-1, 0, -1):\n",
    "            status.insert(0, psi[t][It])\n",
    "            It = psi[t][It]                 # 更新It\n",
    "        \n",
    "        # 根据状态做分词\n",
    "        partition_line = \"\"    # 保存分词后的行结果\n",
    "        for i in range(len(line)):\n",
    "            partition_line += line[i]\n",
    "            if (status[i]==2 or status[i]==3) and (i!=len(line)-1):                 # 如果字的状态为E或S，且不在行尾，则在末尾加空格。\n",
    "                partition_line += \" \"\n",
    "        article_partition.append(partition_line)\n",
    "    return article_partition"
   ]
  },
  {
   "cell_type": "code",
   "execution_count": 26,
   "metadata": {},
   "outputs": [],
   "source": [
    "with open(\"../jupyter_files/test.txt\", encoding='utf-8') as f:\n",
    "    article = f.readlines()"
   ]
  },
  {
   "cell_type": "code",
   "execution_count": 27,
   "metadata": {},
   "outputs": [
    {
     "data": {
      "text/plain": [
       "['当今世界正经历百年未有之大变局，我国发展的内部条件和外部环境正在发生深刻复杂变化。向外看，我们要面对世界经济深度衰退、国际贸易和投资大幅萎缩、国际金融市场动荡、国际交往受限、经济全球化遭遇逆流、一些国家保护主义和单边主义盛行、地缘政治风险上升等不利局面。\\n',\n",
       " '从明年开始，我国将进入“十四五”时期，这是在全面建成小康社会基础上开启全面建设社会主义现代化国家新征程的第一个五年，意义十分重大。\\n',\n",
       " '面对深刻变化的外部环境，保持战略定力，增强必胜信心，集中力量办好自己的事情，是我们应对各种风险挑战的关键。坚定不移推动经济高质量发展，以供给侧结构性改革为主线，着力加快建设实体经济、科技创新、现代金融、人力资源协同发展的产业体系，着力构建市场机制有效、微观主体有活力、宏观调控有度的经济体制，着力打造未来发展新优势，我们就一定能推动中国经济行得更稳、走得更好，在新征程上创造新的更大奇迹。']"
      ]
     },
     "execution_count": 27,
     "metadata": {},
     "output_type": "execute_result"
    }
   ],
   "source": [
    "article"
   ]
  },
  {
   "cell_type": "code",
   "execution_count": 28,
   "metadata": {},
   "outputs": [],
   "source": [
    "partition_article = hmm_predict(article, (A, B, pi))"
   ]
  },
  {
   "cell_type": "code",
   "execution_count": 29,
   "metadata": {},
   "outputs": [
    {
     "data": {
      "text/plain": [
       "['当今 世界 正经 历百年 未有 之大 变局 ， 我国 发展 的 内部 条件 和 外部 环境 正 在 发生 深刻 复杂 变化 。 向 外看 ， 我们 要面 对 世界 经济 深度 衰退 、 国际 贸易 和 投资 大幅 萎缩 、 国际 金融 市场 动荡 、 国际 交往 受限 、 经济 全球化 遭遇 逆流 、 一些 国家 保护 主义 和 单边 主义 盛行 、 地缘 政治 风险 上升 等 不利 局面 。',\n",
       " '从 明年 开始 ， 我国 将 进入 “ 十四 五 ” 时期 ， 这 是 在 全面 建成 小康 社会 基础 上 开启 全面 建设 社会 主义 现代化 国家 新 征程 的 第一 个 五年 ， 意义 十分 重大 。',\n",
       " '面对 深刻 变化 的 外部 环境 ， 保持 战略 定力 ， 增强 必胜 信心 ， 集中 力量 办好 自己 的 事情 ， 是 我们 应 对 各种 风险 挑战 的 关键 。 坚定 不移 推动 经济 高 质量 发展 ， 以供 给 侧结 构性 改革 为 主线 ， 着力 加快 建设 实体 经济 、 科技 创新 、 现代 金融 、 人力 资源 协同 发展 的 产业 体系 ， 着 力构 建市 场 机制 有效 、 微观 主体 有 活力 、 宏观 调控 有度 的 经济 体制 ， 着力 打造 未来 发展 新 优势 ， 我们 就 一定 能 推动 中国 经济 行得 更稳 、 走得 更 好 ， 在 新 征程 上 创造 新 的 更 大 奇迹 。']"
      ]
     },
     "execution_count": 29,
     "metadata": {},
     "output_type": "execute_result"
    }
   ],
   "source": [
    "partition_article"
   ]
  },
  {
   "cell_type": "markdown",
   "metadata": {},
   "source": [
    "# 评估hmm模型分词效果"
   ]
  },
  {
   "cell_type": "code",
   "execution_count": 30,
   "metadata": {},
   "outputs": [],
   "source": [
    "perfect_partition_article = ['当今 世界 正 经历 百年 未有 之 大变局 ， 我国 发展 的 内部 条件 和 外部 环境 正 在 发生 深刻 复杂 变化 。 向外看 ， 我们 要 面对 世界 经济 深度 衰退 、 国际 贸易 和 投资 大幅 萎缩 、 国际 金融 市场 动荡 、 国际 交往 受限 、 经济 全球化 遭遇 逆流 、 一些 国家 保护 主义 和 单边 主义 盛行 、 地缘 政治 风险 上升 等 不利 局面 。',\n",
    " '从 明年 开始 ， 我国 将 进入 “ 十四五 ” 时期 ， 这 是 在 全面 建成 小康 社会 基础 上 开启 全面 建设 社会主义 现代化 国家 新征程 的 第一个 五年 ， 意义 十分 重大 。',\n",
    " '面对 深刻 变化 的 外部 环境 ， 保持 战略 定力 ， 增强 必胜 信心 ， 集中 力量 办好 自己 的 事情 ， 是 我们 应对 各种 风险 挑战 的 关键 。 坚定 不移 推动 经济 高质量 发展 ， 以 供给侧 结构性 改革 为 主线 ， 着力 加快 建设 实体 经济 、 科技 创新 、 现代 金融 、 人力 资源 协同 发展 的 产业 体系 ， 着力 构建 市场 机制 有效 、 微观 主体 有 活力 、 宏观 调控 有度 的 经济 体制 ， 着力 打造 未来 发展 新 优势 ， 我们 就 一定 能 推动 中国 经济 行得 更稳 、 走得 更好 ， 在 新征程 上 创造 新 的 更大 奇迹 。']"
   ]
  },
  {
   "cell_type": "code",
   "execution_count": 31,
   "metadata": {},
   "outputs": [],
   "source": [
    "def to_region(segmentation):\n",
    "    \"\"\"\n",
    "    将一行分词结果转换为区间\n",
    "    param segmentation: 百年 未有 之 大变局\n",
    "    return: [(0, 2), (2, 4), (4, 5), (5, 8)]\n",
    "    \"\"\"\n",
    "    sequence = segmentation.split()\n",
    "    result = []\n",
    "    count0 = 0\n",
    "    count1 = 0\n",
    "    for words in sequence:\n",
    "        count1 += len(words)\n",
    "        result.append((count0, count1))\n",
    "        count0 = count1\n",
    "    return result"
   ]
  },
  {
   "cell_type": "code",
   "execution_count": 32,
   "metadata": {},
   "outputs": [],
   "source": [
    "def hmm_performance(perfect, pred):\n",
    "    \"\"\"\n",
    "    计算分词的精度和召回率\n",
    "    param perfect: 标准分词结果\n",
    "    param pred: 算法分词结果\n",
    "    param return: (precision, recall)\n",
    "    \"\"\"\n",
    "    A_size, B_size, A_cap_B_size = 0, 0, 0\n",
    "    A, B = set(to_region(perfect)), set(to_region(pred))\n",
    "    A_cap_B = A & B\n",
    "    A_size += len(A)\n",
    "    B_size += len(B)\n",
    "    A_cap_B_size += len(A_cap_B)\n",
    "    return A_cap_B_size / B_size * 100, A_cap_B_size / A_size * 100\n",
    "    "
   ]
  },
  {
   "cell_type": "code",
   "execution_count": 33,
   "metadata": {},
   "outputs": [],
   "source": [
    "# 将分词语料整合为一行\n",
    "perfect_article = \"\"\n",
    "for words in perfect_partition_article:\n",
    "    perfect_article += words + \" \"\n",
    "perfect_article = perfect_article.strip()"
   ]
  },
  {
   "cell_type": "code",
   "execution_count": 34,
   "metadata": {},
   "outputs": [
    {
     "data": {
      "text/plain": [
       "'当今 世界 正 经历 百年 未有 之 大变局 ， 我国 发展 的 内部 条件 和 外部 环境 正 在 发生 深刻 复杂 变化 。 向外看 ， 我们 要 面对 世界 经济 深度 衰退 、 国际 贸易 和 投资 大幅 萎缩 、 国际 金融 市场 动荡 、 国际 交往 受限 、 经济 全球化 遭遇 逆流 、 一些 国家 保护 主义 和 单边 主义 盛行 、 地缘 政治 风险 上升 等 不利 局面 。 从 明年 开始 ， 我国 将 进入 “ 十四五 ” 时期 ， 这 是 在 全面 建成 小康 社会 基础 上 开启 全面 建设 社会主义 现代化 国家 新征程 的 第一个 五年 ， 意义 十分 重大 。 面对 深刻 变化 的 外部 环境 ， 保持 战略 定力 ， 增强 必胜 信心 ， 集中 力量 办好 自己 的 事情 ， 是 我们 应对 各种 风险 挑战 的 关键 。 坚定 不移 推动 经济 高质量 发展 ， 以 供给侧 结构性 改革 为 主线 ， 着力 加快 建设 实体 经济 、 科技 创新 、 现代 金融 、 人力 资源 协同 发展 的 产业 体系 ， 着力 构建 市场 机制 有效 、 微观 主体 有 活力 、 宏观 调控 有度 的 经济 体制 ， 着力 打造 未来 发展 新 优势 ， 我们 就 一定 能 推动 中国 经济 行得 更稳 、 走得 更好 ， 在 新征程 上 创造 新 的 更大 奇迹 。'"
      ]
     },
     "execution_count": 34,
     "metadata": {},
     "output_type": "execute_result"
    }
   ],
   "source": [
    "perfect_article"
   ]
  },
  {
   "cell_type": "code",
   "execution_count": 35,
   "metadata": {},
   "outputs": [],
   "source": [
    "pred_article = \"\"\n",
    "for words in partition_article:\n",
    "    pred_article += words + \" \"\n",
    "pred_article = pred_article.strip()"
   ]
  },
  {
   "cell_type": "code",
   "execution_count": 36,
   "metadata": {},
   "outputs": [
    {
     "data": {
      "text/plain": [
       "'当今 世界 正经 历百年 未有 之大 变局 ， 我国 发展 的 内部 条件 和 外部 环境 正 在 发生 深刻 复杂 变化 。 向 外看 ， 我们 要面 对 世界 经济 深度 衰退 、 国际 贸易 和 投资 大幅 萎缩 、 国际 金融 市场 动荡 、 国际 交往 受限 、 经济 全球化 遭遇 逆流 、 一些 国家 保护 主义 和 单边 主义 盛行 、 地缘 政治 风险 上升 等 不利 局面 。 从 明年 开始 ， 我国 将 进入 “ 十四 五 ” 时期 ， 这 是 在 全面 建成 小康 社会 基础 上 开启 全面 建设 社会 主义 现代化 国家 新 征程 的 第一 个 五年 ， 意义 十分 重大 。 面对 深刻 变化 的 外部 环境 ， 保持 战略 定力 ， 增强 必胜 信心 ， 集中 力量 办好 自己 的 事情 ， 是 我们 应 对 各种 风险 挑战 的 关键 。 坚定 不移 推动 经济 高 质量 发展 ， 以供 给 侧结 构性 改革 为 主线 ， 着力 加快 建设 实体 经济 、 科技 创新 、 现代 金融 、 人力 资源 协同 发展 的 产业 体系 ， 着 力构 建市 场 机制 有效 、 微观 主体 有 活力 、 宏观 调控 有度 的 经济 体制 ， 着力 打造 未来 发展 新 优势 ， 我们 就 一定 能 推动 中国 经济 行得 更稳 、 走得 更 好 ， 在 新 征程 上 创造 新 的 更 大 奇迹 。'"
      ]
     },
     "execution_count": 36,
     "metadata": {},
     "output_type": "execute_result"
    }
   ],
   "source": [
    "pred_article"
   ]
  },
  {
   "cell_type": "code",
   "execution_count": 37,
   "metadata": {},
   "outputs": [],
   "source": [
    "hmm_precision, hmm_recall = hmm_performance(perfect_article, pred_article)"
   ]
  },
  {
   "cell_type": "code",
   "execution_count": 38,
   "metadata": {},
   "outputs": [
    {
     "name": "stdout",
     "output_type": "stream",
     "text": [
      "hmm precision: 85.281385\n",
      "hmm recall: 89.545455\n"
     ]
    }
   ],
   "source": [
    "print(\"hmm precision: %f\" % hmm_precision)\n",
    "print(\"hmm recall: %f\" % hmm_recall)"
   ]
  },
  {
   "cell_type": "code",
   "execution_count": null,
   "metadata": {},
   "outputs": [],
   "source": []
  }
 ],
 "metadata": {
  "kernelspec": {
   "display_name": "Python 3",
   "language": "python",
   "name": "python3"
  },
  "language_info": {
   "codemirror_mode": {
    "name": "ipython",
    "version": 3
   },
   "file_extension": ".py",
   "mimetype": "text/x-python",
   "name": "python",
   "nbconvert_exporter": "python",
   "pygments_lexer": "ipython3",
   "version": "3.7.3"
  }
 },
 "nbformat": 4,
 "nbformat_minor": 2
}
